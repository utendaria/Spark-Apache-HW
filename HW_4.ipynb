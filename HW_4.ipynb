{
  "cells": [
    {
      "cell_type": "code",
      "execution_count": 1,
      "metadata": {
        "id": "KIqH9BgUoYWt"
      },
      "outputs": [],
      "source": [
        "from pyspark.sql import SparkSession\n",
        "from pyspark import SparkContext"
      ]
    },
    {
      "cell_type": "code",
      "execution_count": 4,
      "metadata": {
        "id": "eMs47wrzQF-a"
      },
      "outputs": [],
      "source": [
        "from pyspark.sql.functions import sum, when, col\n",
        "from pyspark.sql import functions as F"
      ]
    },
    {
      "cell_type": "markdown",
      "metadata": {
        "id": "V_fMWd-4KWQC"
      },
      "source": [
        "Условие: используйте источник rate, напишите код, который создаст дополнительный столбец, который будет выводить сумму только нечётных чисел."
      ]
    },
    {
      "cell_type": "code",
      "execution_count": 10,
      "metadata": {
        "id": "eipFw7XDoYWt"
      },
      "outputs": [],
      "source": [
        "spark = SparkSession.builder.master('local[*]').appName('stream_odd_sum').getOrCreate()"
      ]
    },
    {
      "cell_type": "code",
      "execution_count": 11,
      "metadata": {
        "colab": {
          "base_uri": "https://localhost:8080/"
        },
        "id": "b8Tdx3Xj1SLs",
        "outputId": "ad96a304-561a-4065-861a-fc8772b74c03"
      },
      "outputs": [
        {
          "data": {
            "text/plain": [
              "False"
            ]
          },
          "execution_count": 11,
          "metadata": {},
          "output_type": "execute_result"
        }
      ],
      "source": [
        "df = spark.readStream.format(\"rate\").option(\"rowsPerSecond\", 1).load()\n",
        "\n",
        "df_odd = df.withColumn(\"odd_num\", when(col(\"value\") %2 == 1, col(\"value\")).otherwise(0))    #столбец с нечетными числами\n",
        "df_odd_sum = df_odd.select(F.sum(\"odd_num\").alias(\"odd_sum\"))       #сумма нечетных чисел\n",
        "\n",
        "query = df_odd_sum.writeStream.outputMode(\"complete\").format(\"console\").start()\n",
        "query.awaitTermination(5)"
      ]
    },
    {
      "cell_type": "code",
      "execution_count": 8,
      "metadata": {
        "id": "vPgzNOdR2pEU"
      },
      "outputs": [],
      "source": [
        "spark.stop()"
      ]
    }
  ],
  "metadata": {
    "colab": {
      "provenance": []
    },
    "kernelspec": {
      "display_name": "Python 3",
      "language": "python",
      "name": "python3"
    },
    "language_info": {
      "codemirror_mode": {
        "name": "ipython",
        "version": 3
      },
      "file_extension": ".py",
      "mimetype": "text/x-python",
      "name": "python",
      "nbconvert_exporter": "python",
      "pygments_lexer": "ipython3",
      "version": "3.13.0"
    }
  },
  "nbformat": 4,
  "nbformat_minor": 0
}
