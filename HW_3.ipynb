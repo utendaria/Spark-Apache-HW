{
  "cells": [
    {
      "cell_type": "markdown",
      "metadata": {
        "id": "V_fMWd-4KWQC"
      },
      "source": [
        "Условие: есть набор данных о продажах продуктов с информацией о дате продаж, категории продукта, количестве и выручке от продаж.\n",
        "\n",
        "Используя Apache Spark, загрузите предоставленный набор данных в DataFrame\n",
        "Столбцы: \"date\", \"category\", \"quantity\", \"revenue\".\n",
        "\n",
        "С использованием оконных функций, рассчитайте среднее выручки от продаж для каждой категории продукта.\n",
        "Примените операцию pivot для того, чтобы преобразовать полученные данные таким образом, чтобы в качестве строк были категории продуктов, в качестве столбцов были дни, а значениями были средние значения выручки от продаж за соответствующий день"
      ]
    },
    {
      "cell_type": "code",
      "execution_count": 2,
      "metadata": {
        "id": "KIqH9BgUoYWt"
      },
      "outputs": [],
      "source": [
        "from pyspark.sql import SparkSession\n",
        "from pyspark import SparkContext"
      ]
    },
    {
      "cell_type": "code",
      "execution_count": 3,
      "metadata": {
        "id": "eMs47wrzQF-a"
      },
      "outputs": [],
      "source": [
        "from pyspark.sql.functions import sum, avg, when, max\n",
        "from pyspark.sql import functions as F\n",
        "from pyspark.sql.window import Window"
      ]
    },
    {
      "cell_type": "code",
      "execution_count": 4,
      "metadata": {
        "id": "eipFw7XDoYWt"
      },
      "outputs": [],
      "source": [
        "spark = SparkSession.builder.master('local[*]').appName('window_pivot').getOrCreate()"
      ]
    },
    {
      "cell_type": "code",
      "execution_count": 5,
      "metadata": {
        "id": "C-pB1gLqoxIe"
      },
      "outputs": [],
      "source": [
        "data = [(\"2023-11-20\", \"Electronics\", 100, 12000),\n",
        "        (\"2023-11-21\", \"Electronics\", 110, 13000),\n",
        "        (\"2023-11-22\", \"Electronics\", 105, 12500),\n",
        "        (\"2023-11-20\", \"Clothing\", 300, 15000),\n",
        "        (\"2023-11-21\", \"Clothing\", 280, 14000),\n",
        "        (\"2023-11-22\", \"Clothing\", 320, 16000),\n",
        "        (\"2023-11-20\", \"Books\", 150, 9000),\n",
        "        (\"2023-11-21\", \"Books\", 200, 12000),\n",
        "        (\"2023-11-22\", \"Books\", 180, 10000)]\n",
        "colms = [\"date\", \"category\", \"quantity\", \"revenue\"]\n",
        "df = spark.createDataFrame(data, colms)"
      ]
    },
    {
      "cell_type": "code",
      "execution_count": 52,
      "metadata": {
        "id": "QSA6vHjHingZ"
      },
      "outputs": [],
      "source": [
        "#С использованием оконных функций, рассчитайте среднее выручки от продаж для каждой категории продукта\n",
        "windowSpec = Window.partitionBy(\"category\")\n",
        "df_avg = df.withColumn(\"avg_revenue\", F.round(avg(\"revenue\").over(windowSpec)))\n",
        "df_avg_distinct = df_avg.select('category', 'avg_revenue').distinct()"
      ]
    },
    {
      "cell_type": "code",
      "execution_count": 53,
      "metadata": {
        "colab": {
          "base_uri": "https://localhost:8080/"
        },
        "id": "gvr_J-yejYS6",
        "outputId": "35bf92ae-724a-47cc-d631-33fb4190d5ec"
      },
      "outputs": [
        {
          "name": "stdout",
          "output_type": "stream",
          "text": [
            "+-----------+-----------+\n",
            "|   category|avg_revenue|\n",
            "+-----------+-----------+\n",
            "|      Books|    10333.0|\n",
            "|   Clothing|    15000.0|\n",
            "|Electronics|    12500.0|\n",
            "+-----------+-----------+\n",
            "\n"
          ]
        }
      ],
      "source": [
        "df_avg_distinct.show()"
      ]
    },
    {
      "cell_type": "code",
      "execution_count": 14,
      "metadata": {
        "colab": {
          "base_uri": "https://localhost:8080/"
        },
        "id": "m-jvnuakkcAK",
        "outputId": "db699024-94d7-4c27-e6a8-be60cd9b76f3"
      },
      "outputs": [
        {
          "name": "stdout",
          "output_type": "stream",
          "text": [
            "+-----------+----------+----------+----------+\n",
            "|   category|2023-11-20|2023-11-21|2023-11-22|\n",
            "+-----------+----------+----------+----------+\n",
            "|Electronics|   12000.0|   13000.0|   12500.0|\n",
            "|   Clothing|   15000.0|   14000.0|   16000.0|\n",
            "|      Books|    9000.0|   12000.0|   10000.0|\n",
            "+-----------+----------+----------+----------+\n",
            "\n"
          ]
        }
      ],
      "source": [
        "#Примените операцию pivot для того, чтобы преобразовать полученные данные таким образом,\n",
        "#чтобы в качестве строк были категории продуктов, в качестве столбцов были дни, а значениями были средние значения выручки от продаж за соответствующий день\n",
        "df_pivot = df.groupBy(\"category\").pivot(\"date\").agg(F.avg(\"revenue\"))\n",
        "df_pivot.show()"
      ]
    },
    {
      "cell_type": "code",
      "execution_count": 17,
      "metadata": {
        "id": "9odxVabClnZD"
      },
      "outputs": [],
      "source": [
        "#просто другой способ (транспонированная таблица)\n",
        "df_pivot2 = df.groupBy(\"date\").pivot(\"category\").agg(F.avg(\"revenue\"))"
      ]
    },
    {
      "cell_type": "code",
      "execution_count": 18,
      "metadata": {
        "colab": {
          "base_uri": "https://localhost:8080/"
        },
        "id": "f1hKl2Rclx_r",
        "outputId": "e673489f-4799-4aae-b652-a6f44c3fa4c7"
      },
      "outputs": [
        {
          "name": "stdout",
          "output_type": "stream",
          "text": [
            "+----------+-------+--------+-----------+\n",
            "|      date|  Books|Clothing|Electronics|\n",
            "+----------+-------+--------+-----------+\n",
            "|2023-11-20| 9000.0| 15000.0|    12000.0|\n",
            "|2023-11-21|12000.0| 14000.0|    13000.0|\n",
            "|2023-11-22|10000.0| 16000.0|    12500.0|\n",
            "+----------+-------+--------+-----------+\n",
            "\n"
          ]
        }
      ],
      "source": [
        "df_pivot2.show()"
      ]
    }
  ],
  "metadata": {
    "colab": {
      "provenance": []
    },
    "kernelspec": {
      "display_name": "Python 3",
      "language": "python",
      "name": "python3"
    },
    "language_info": {
      "codemirror_mode": {
        "name": "ipython",
        "version": 3
      },
      "file_extension": ".py",
      "mimetype": "text/x-python",
      "name": "python",
      "nbconvert_exporter": "python",
      "pygments_lexer": "ipython3",
      "version": "3.13.0"
    }
  },
  "nbformat": 4,
  "nbformat_minor": 0
}
