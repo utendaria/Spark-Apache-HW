{
  "cells": [
    {
      "cell_type": "code",
      "execution_count": 1,
      "metadata": {
        "id": "MZ2x8Au8oYWr",
        "outputId": "73bedfd7-1559-4340-bbda-e465687bb481",
        "colab": {
          "base_uri": "https://localhost:8080/"
        }
      },
      "outputs": [
        {
          "output_type": "stream",
          "name": "stdout",
          "text": [
            "Requirement already satisfied: pyspark in /usr/local/lib/python3.10/dist-packages (3.5.3)\n",
            "Requirement already satisfied: py4j==0.10.9.7 in /usr/local/lib/python3.10/dist-packages (from pyspark) (0.10.9.7)\n"
          ]
        }
      ],
      "source": [
        "pip install pyspark"
      ]
    },
    {
      "cell_type": "markdown",
      "source": [
        "Условие: дана таблица с колонками (id, name, salary, managerId), студентам необходимо написать код на spark, который создаст эту таблицу (данные указаны ниже) и в результате выдаст таблицу в которой будут имена сотрудников, которые зарабатывают больше своих менеджеров.\n",
        "![изображение_2024-11-30_132149853.png](data:image/png;base64,iVBORw0KGgoAAAANSUhEUgAAAgkAAADfCAIAAADz+Ne0AAAAAXNSR0IArs4c6QAAGrNJREFUeJzt3H9oG/f9x/G70X9O1PZSifQPYSPyx6S5UJtgyobk/aHRRn+UZUkgSVE8NvpHhFMaDG3+CfI8HYHRFETBNs4glM05OgfiMghBKUQwLNH+YcxSmLmDoQkzMTruVuyA7s/7/vH59qp9bMe/JJ1jPx9/BOWjk/zW5073+nw+d7bqeZ4CAECLHwRdAADg0CEbAAAysgEAICMbAAAysgEAICMbAAAysgEAICMbAAAysmGfDMNQVVVV1Uwm4zhO0OUAQDvtKht0XVdb5HI513U7X9vhpet6rVbzPM/zvFKpFA6Hg64IANppt/OGSqUiToWVSqXDJR12lmU9e/bsgw8+CLoQAOiUA60pOY6TyWTEZMIwDL8xl8v5yyy6rlerVUVRqtWqruubt2ltFyzLunHjhpia+D9ieHjYsqzNNbTOafwJjeu6uVxuc/uWG/s/dHh4uHV6VK1Wt/yAtm339PR8/PHH/mabe0NVVfGhWj+p2GBzb7R+3uf3hmEYLGEB6IIDZcPs7Gw+n/c8z7bthw8fbnnuPgjHcbLZrPgRT548mZqa2vJHiDmNaZq9vb1+Y29vr2marROdarXaaDSazebmjRVFicfjf/vb32zbvnz5snhhMpnc8gPW6/XJycl0Oi3ep1Ao+FXFYjHbtj3Pu3fv3uY6S6XSD3/4w/Z2EQB0ws7Z4Lpuo9HY8ql8Pp9MJhVFCYfDg4ODtm3vr4jJycktx/KmaSaTydYfsby8LL325ZdfjkQi+/u5O9ruAxYKBdEej8dTqdTmqjazLOvp06cDAwM7brldbyiKks1mubwBoAt2zoZms7m+vr7l+bd1HWZyctJvr9frkUhkc7t/1otEIvV63W8vFAriYkY0Gl1cXGz9Ef5LpLcSXNf997//vcuPmkwmo9FoKBRSVTWRSGxsbOz4ku0+YKtTp07t+D6u6969e/fdd9/t6enZcePn9AYAdMfO2SAGy5uzwXXdYrE4MzMjTmSFQsF/yl9akdr9s55t27FYbPPPOnXqVK1Wa23xXyJks9nWZ5vN5sbGxubatmu/ePHihx9+2Gw2N68pbbbdB5Qq9wu2bbu3tzcUCknvE41GHz16NDQ0FI/Hn/8TJZt7AwC6Y+dsuH///uDg4OZ1jGaz6Y/9HcfxL8keRK1Wax2GJxKJ1dVVsZrvuu6NGzek6w2maUaj0c21bXeaXl5eHhoa0jRtN8Vs9wFbq7Isa3V1NZPJ+NeoN795o9H4xz/+cf78+V13w/+TeoNr0QC65nnZIO72mZycbF3YSaVSd+7cOXfunFiOT6VSqqpms9kzZ87our6/05b//o1Go/UcGg6Hp6enr1+/rqpqKBR68803W6cC1Wo1lUr5r00kErdv3z537tyjR48SicTZs2el07RhGLdv3x4ZGdllVeFweMsPGA6Hp6amLl26pKrqpUuXpqamwuGwYRjXrl27ePHi5vdZX19/9913N2fG5spF723XGwDQPd72ms3mhx9+KG7aaWXb9tWrV/1Vo6BUKpV79+61thySwvbhxa0cwJHE38wAAMhUz/OCrgEAcLgwbwAAyMgGAICMbAAAyMgGAICMbAAAyMgGAICMbAAAyMgGAICMbAAAyMgGAICMbAAAyMgGAICMbAAAyF56/tOqqnarEgBAp+z1T27vkA37eEfslaryl9K7ig7vMjo8cPsY5bOmBACQkQ0AABnZAACQkQ0AABnZAACQkQ0AABnZAACQkQ0AABnZAACQkQ0AABnZAACQkQ0AABnZAACQkQ0AABnZAACQkQ0AABnZAACQtTkbdF03DKO97wkcNoZhcJwfW5ZlvfPOO47jBF1IZ+05G6rVqvqdarXamaqAbnNdN5fLiQN7eHjYsqygK0JgWg+GXC7num7QFQVgz9mQTCZN07x8+bJt28lksjNVAd328ccfj46Oep7ned7CwsL7779PPBwllmUNDw/vcranadrc3FyhULh3797c3JymaZ0v8NBpw5qS6HQRsM+ePWtHVced67o3btz4wx/+IEYu/gHtOE4mk9ncmMvlisWiP5kzDGPzxE7XdemF8Lmu++zZs5GREfHfeDz++PHjeDwulo9Ev2UymS2XEfyO9QeYrbvv008/zeVy0h5kwr3L49Y/t7Q2VqvVGzduiHF9607Zck/575BIJGZmZrLZbOv3qHWC6L/tjjv6r3/9a1d6KGAHzQbHca5fvz4zM+N53sTExBdffNGmwo67jY2Nb775xvM827YfPnwojuDZ2dl8Pi81KopSr9dPnjzpeV6lUkmlUoqieJ5nmub09LQ4ynVdF42e59VqNeJBomna0NDQpUuXpLmCZVlPnz5tNpue542Njc3OzkovFCcs0bHRaHRxcVG0+7vvN7/5zdjY2NLSkogN0zRjsdjp06e7+OEOr+cft67r3r17d2FhQTqYFUX54osvJiYmWnfKlnuq9R0qlcr8/Lzruo7jZLNZ8T168uTJ1NSUv9PF25ZKpXA4LJVqGEaj0RDv/80333z77bdd761uO2g22Lb9+uuvi2M9Ho9fuHChTYUdd729vRcvXlQUJRwODw4O2ratKEo+nxfreK2NiqLEYrFMJqMoSiKRuHz5shj/DgwM9Pf327btOE6j0RgfHxcbp9Np/1QFXzabnZmZSSQSraPUeDz+0UcfiSWFkZGRZ8+eSf2WTCbz+bx4nE6na7WaeOzvPrFTFEVpNpvibDg6Ono81yg2e/5xq2naRx99JGZvfqN44YULF0S7v1O23FPNZnNjYyMSibTuBdM0k8lk6/doeXlZetvNarXa2NiYeP+LFy+eOHGii/0UjDZkw8bGRpuKwQ5ap9iTk5O7f2G9Xo9EIuKFYoCGzZLJpJgBmKZZKBTEcNJfSUgkEpsP9daLltt1bDgcjkajpmm6rlur1cTZELvh3/kSCoV2XJPYvKdCoZCYq/n/ipbJyUn/hprdfI9c1200Gu37WC+Gg2ZDJBLp7e1tUzF4Htd1i8WiWL7zPK9QKOz+tbFYzLZt7zvH9vLaLg0MDAwNDYlzk7+SYJrm5kN9cXExGo2KXq1UKtu9YTqdLpfLa2trL7/88ub1CmzJcZzp6WnTND3Pazabb7311nM23nJPaZo2MTFx7do1VVV1Xb9165Y47AuFgtdCXIR4Dk3TotFouz/fYdeGbPj6669XVlbEvuQiW+c0m816vS4e76mrxbi1VCqJ/3Jv/mbSTSwrKytff/11JBLxO1xRlOXl5c3zBn8RSVGUcrm83fsnEolGo/Ho0aM33nijA+UfTbZt//e//xWP19bWnj59+pyNt9xTruvev3//yZMnnuf5VxESicTq6qqYFIq7BnZzQ9qpU6fE5Qrx/lxv2EK1Wk0kEn/+858jkUi1Wg2Hw5988olI5mw2G4vFOlMnlHA4nM/nU6mU6OozZ87our7LX8DJ5/O1Wk1Momu12s9+9rPO1/siicfjX3755dLSkuiia9euffLJJ+Fw+Pz582IhQlXV//znP/V6XVxtjsViV65cMQxjfHzcX/d49dVXHzx4sGVmi3h+/PixWPXGbsTj8V/96lfiClCxWBwaGioWi9tdJ9tuTzUaDX81VdyVFA6Hp6enr1+/Lpaq3nzzTXFBopVYKpycnLxy5Yq4/SybzUajUfH+T58+PQ7XG1TP8573tLrDBjg4OrnLAunwarVaLpf9C9fHSlBHuNTn1Wp1fn6+WCwewwXVfewC/p4S0A3lcjmdTgddxfHSutAkRKPRYxgM+0M2AJ0lFijEYmzQtRwv58+fbzQa/i1Juq77d3JjR6wpBY9O7jI6vMvo8MCxpgQAaIOd5w1dLAYA0BF7nTe81PZ3xF4x4+4yOrzL6PDA7WOUz5oSAEBGNgAAZGQDAEBGNgAAZGQDAEBGNgAAZGQDAEBGNgAAZGQDAEBGNgAAZGQDAEBGNgAAZGQDAEBGNgAAZGQDAEBGNgAAZGQDAEBGNgAAZPvMBl3XVVXVdb3d9eD/iR4WDMMIupwjznXdXC6nthgeHrYsSzxrGIZozGQyjuMEXezRUa1W/Q6vVqtBl4P/sedsEN8iRVHu3bvXmZKgKIqSz+c9z/M8r1AoBF3LsdDb22uapuhz0zR//OMfRyIRcf6an5+3bdvzvLGxsZs3b7quG3SxR4FlWdPT06JjTdMsFAp+GOMw2HM2LC4uRqPRfD7fmXrwPJZlDQ8PS6Pa1kkGM4y2WF5efvvtt8PhsKIo5XI5n8+Lx5lMZn19fW1tLegCj4J4PP7ZZ5+Jjo1EIq+88krQFeF/7DkbstkswRAIy7Lef//9hYUFz/MWFhampqbE+oZY2RMD3lqtRjzsg6ZpH330UTweVxTFcZyHDx+OjIyIWXKj0fA3C4VCfX19tm0HWuwRZJpmX1/fwMBA0IXge1yLfmEsLy+nUilx/orH44ODg6VSyXGcRqMxPj4utkmn00tLSyx6HESpVBocHBT9jI7yL/OUy+W5uTlN04KuCN8jG1549Xo9EomINaVUKhV0OS8213WXlpbS6XTQhRwLmqbNzc15npdOp6VlUgTupaALwEHFYjHbtsW6LQ5oZWVFUZTTp0+L/2qaFo1G/Webzeb6+rq4Ro02SiaTFy5csG2b6drhwbzhMNJ1XVxFcBynWq3GYjFxIXR1dVWMrSzLWl1dzWQy4XA4Go2WSiXxQsMwuN5wEOVyeXR0tHVxI51O67ouLu2USiWWxdtF1/VcLifWPy3LqlQqhO7h4j3X5g1s2z5z5kzrO5w5c0bciIb92XIv+Leu3rt3z280TXNoaEhRlKGhIf+Gy9aNC4XC2tpatwp/UW132FcqlS0PZv92bQ71/dmuw1vvg69UKl2v6xjZ8VS/mSpeth1V3WEDHByd3GV0eJfR4YHbxy5gTQkAICMbAAAysgEAICMbAACynX+/4Qc/ID86jk7uMjq8y+jwFw73KQWPTu4yOrzL6PDAcZ8SAKANyAYAgIxsAADIyAYAgIxsAADIyAYAgIxsAADIyAYAgIxsAADIyAYAgIxsAADIyAYAgIxsAADIyAYAgIxsAADIyAYAgIxsAADIyAYAgGw/2WBZ1vDwsKqqqqoahtGBqo4713VzuVy1WvVbLMt65513HMcJtK4jTtd1cVQPDw9bluW3G4Yh2jOZDLug7cT5JJfLua4bdC343p6zwXGc69evz8zMeJ5nmuaf/vSn1m8R8IIyDKPRaDSbTc/zZmZmrl+/LmKgWq3Oz8/btu153tjY2M2bNzmFtZHrunfv3h0fHw+6EMj2kw2///3vk8mkoijxeDyVSi0vL3emNmzLH8nqui5aHMfJ5XLFYlG0+3MOwzCKxWImk8nlcp9++mnr6EzXdf/lqNVqo6OjmqYpipJIJE6cOGHbtqIo5XI5n8+Hw2FFUTKZzPr6+traWtDFHh2Li4s9PT2vvfZa0IVAtuds+NGPfjQ8PCweu67baDRisVgHCsO2DMNYWloSI9xTp0755/d6vX7y5Ekxn5uenvZXPx4/fmwYxtzc3C9+8Qv/1OY4zurq6sWLFwP9KIdIOp1eWloSwWmaZl9f38DAgDjC/W1CoVBfX5/IDBycZVkPHz5k0nA4Heha9OLioqIop0+fbl89+F4qlVK/k0gkvv32W5HHT58+nZiYECPckZGR1dVVEQOxWCyTySiKMjAw0N/f75/CxsbGxLA3HA4PDg6Kdtu2+/v7BwYGgv6Uh0UymZyYmPjpT3+qqmq5XJ6bmxM9jM65f//+e++9Jw5OHDb7zwYxei0Wi3yFOqRSqXjfMU3zxIkTon1jYyORSEiZsUvpdLpcLiuKsry8fPbsWfadT9f1YrH45Zdfep6XTqely9FoO7HsKVancQjtMxt0XScYgtLb22uaph8bpVJp9yOvRCLRaDT+9a9/1Wq1RCLR4UpfGK7rPnv2zJ+NnT59+ic/+Ylt25qmRaNRf7Nms7m+vh6JRAIt9ogol8uTk5NiiJNKpe7cuXPu3DluAzs89pwN4vZKRVGYdAdC07ShoaH79++L/1ar1T1dTw6Hw9Fo9NGjRy+//DJz+VYbGxt+r66trf3zn/8UGZBOp3VdF+esUqkkrkMEXexRkM/n/fFNpVK5evXq559/zjF5eOw5G9bW1r766is/8FVV5cbkLstms6dOnRKdPz8//+tf/3pP/Z9Op69evfrGG290ssYXjKZpxWKx0Wj4K3WTk5PxeFwseoyNjUUiEdHbt27dYkiE40D1PO95T6s7bICD63InO45z8+bNW7duHdsxGkd1l9HhgdvHLuBvZhw7pmlGo9FjGwwAdoNsOF4Mw0ilUul0OuhCABxqrCkFj07uMjq8y+jwwLGmBABog53nDV0sBgDQEXudN7zU9nfEXjHj7jI6vMvo8MDtY5TPmhIAQEY2AABkZAMAQEY2AABkZAMAQEY2AABkZAMAQEY2AABkZAMAQEY2AABkZAMAQEY2AABkZAMAQEY2AABkZAMAQEY2AABkZAMAQEY2AHgxOI6Ty+Ucx1EUxTAMwzCCrugo2082VKtV9TvVarUDVUGxLGt4eFh0ci6Xc1036IqOBdHtUocbhiF2RCaTEScmHJzjOJlMRtd1v8WyrBs3bnCoHxJ7zgbLsqanp23b9jzPNM1CoWBZVmdqO74cx5mamlpYWPA8z/O80dHRiYkJvjOdZlnW1NTUkydP5ubmNE0TjdVqdX5+XhzwY2NjN2/eZEe00YMHDziBHE57zoZ4PP7ZZ5+Fw2FFUSKRyCuvvNKZwo4127b7+/sHBgbEf7PZrH+20nVdmkyIiXaxWPRncv44l1nd7ok8npqaEse2r1wu5/N50ZjJZNbX19fW1oIr80g5ceLE+Ph4sViU4rZ17ch13Vwux5HcfQe63mCaZl9fn38KQ7sMDAxsbGxsniuIb4iYTESj0cXFRdFer9dPnjzpeV6lUkmlUmIb0zSnp6dZA9kl0zT7+/tFxA4PD4vBrOu6jUbD3yYUCvX19dm2HWilR8obb7yhKMrKykrQhUC2n2wQSa6qarlcbp19o100TZubm4tGo6FQqHWZO5lM5vN5sU06na7VauJxLBbLZDKKoiQSicuXL4+MjIiA6e/v50S2S+Vy+YsvvpiYmPA8b2Zm5vr168RqF2iaNjExwSDmENpPNogzl+d56XTaH2Gh7fL5vJgi+MvcfiqrqirmB2gLMT+YmZmJx+OKopw+fToWi5mmGXRdx0I8Hn/77bdnZ2eDLgT/40BrSslk8sKFC4xMO21kZKS3t1dRlMXFxWg0KgKjUqkEXdfRoWlaNBptbent7Y1EIlJ7s9lcX1+PRCJB1HiUZTKZ1dXV1jBeX1/nxBKsPWeDruv+VVDLsiqVCl+VtjMMo3VCdv/+/Z6eHk3T/EUksQYSXIFHUDqdnp+fFwf2ysrKxsaGuJCWTqd1XRcrHqVSiQtsnRAOh997771f/vKXGxsb/nWd5eVlkcf1ej3oAo+jPWdDPp8fHR0V6+CJRGJyclJMw9FG2Wx2YWHh0qVLYvmo0Wh88MEHiqKMj4/7v1zy6quvPnjwgPs32iWZTPoHtq7rt27dEhfSksnk2NhYJBJRVXV+ft5vR3slk8lCoSAei4sQt2/fVlX15z//ued5oj0UColvh+M4sVjsypUr/Ppb56h+v2/9tLrDBjg4OrnL6PAuo8MDt49dwN/MAADIyAYAgIxsAADIyAYAgIxsAADIdr5PqYvFAAA6Yq/3Kb3U9nfEXnGHX5fR4V1GhwduH6N81pQAADKyAQAgIxsAADKyAQAgIxsAADKyAQAgIxsAADKyAQAgIxsAADKyAQAgIxsAADKyAQAgIxsAADKyAQAgIxsAADKyAQAgIxsAHHaO4+RyOcdxFEUxDMMwjKArOvr2nw2WZQ0PD+dyOdd121oSFNd1c7lcJpMRXwahWq2qqlqtVgMt7SgzDENVVVVVpZ7frh04wvaZDa7r3r17d3x8vN314HuPHz8ulUriseu6f/nLX956662gizqyDMNYWlpqNpue5+Xz+Zs3b4pBT7VanZ+ft23b87yxsTG/HTja9pkNi4uLPT09r732Wrvrwffu3Lnz8OFDMVBdWVnp6elJpVL+s7qui8GsP3XTdd0f2IpZHZOM3avVamNjY5qmKYpy+vTp3t7etbU1RVHK5XI+nw+Hw4qiZDKZ9fV10Y4DEstExWJRHMb+sarruv/YMAxd1wMt8/jaTzZYlvXw4UMmDZ322muvDQ4OlkolMWm4ePGi/5T48nie53leNBpdXFxUFCWfz4+Njc3OzopZ3cLCQjKZDPQTvDBc1200Gq0tGxsbtm1L7aFQqK+vz7btIGo8gur1+smTJz3PM01zenqa9bpDZT/ZcP/+/ffee0+MpNBR4+PjS0tLc3NzPT098Xjcb08mk/l8XjxOp9O1Wk08Pn/+/LNnz377298ODQ21bo/n0zRtdHR0fn5ezMBWVla++uqrSCQSdF1HXCwWy2QyiqIMDAz09/cTuofKnrNBjFgZkHZHOBweHR394x//2Dpp8C9Wi8l460KTpmlnz579+uuvxVcOu5fNZqPRaCgUUlW1UCi89dZbAwMDQRcFBGbP2VAulycnJ/2z0p07d86dO8dksHMymczt27elScDi4mI0GhVrSpVKxW93HGd6evr111+fnZ0NotgXWz6fF12aSqXOnj2raZqmadFo1N+g2Wyur68zn+i0er0edAnYezb43x9xVrp69ernn3/O+lLnhMPhN998U2r0F5FEWvuPZ2dn33777d/97neNRoML0fsj7p33Z8bpdFrXdTH6KZVKfX19zCc66tSpU0tLS2Jxr/U4R5fxu28vpPHxcfHrDqqqvvrqqw8ePKhWq7quNxqN8+fPa5o2MTFx7do14mFPRJfWajX/Wo4IibGxsUgkoqrq/Pz8rVu3xL1M6JDz58+Ly/6qqv79738XjaFQSKz7OY4Ti8WuXLnCr791mup53vOeVnfYAAdHJ3cZHd5ldHjg9rELmDcAAGRkAwBARjYAAGRkAwBARjYAAGQ736fUxWIAAB2x1/uUuLcMACBjTQkAICMbAAAysgEAICMbAAAysgEAICMbAAAysgEAICMbAAAysgEAICMbAAAysgEAICMbAAAysgEAICMbAAAysgEAIPs/279UltGDDKAAAAAASUVORK5CYII=)"
      ],
      "metadata": {
        "id": "V_fMWd-4KWQC"
      }
    },
    {
      "cell_type": "code",
      "execution_count": 4,
      "metadata": {
        "id": "KIqH9BgUoYWt"
      },
      "outputs": [],
      "source": [
        "from pyspark.sql import SparkSession\n",
        "from pyspark import SparkContext"
      ]
    },
    {
      "cell_type": "code",
      "source": [
        "from pyspark.sql.functions import sum, avg, when, max\n",
        "from pyspark.sql import functions as F"
      ],
      "metadata": {
        "id": "eMs47wrzQF-a"
      },
      "execution_count": 16,
      "outputs": []
    },
    {
      "cell_type": "code",
      "execution_count": 86,
      "metadata": {
        "id": "eipFw7XDoYWt"
      },
      "outputs": [],
      "source": [
        "spark = SparkSession.builder.master('local[*]').appName('transf_test').getOrCreate()"
      ]
    },
    {
      "cell_type": "code",
      "source": [
        "employees = spark.createDataFrame([ [1, 'Joe', 70, 3],\n",
        "    [2, 'Henry', 80, 4],\n",
        "    [3, 'Sam', 60, None],\n",
        "    [4, 'Max',  90, None]], ['id','name', 'salary', 'managerid'])"
      ],
      "metadata": {
        "id": "TFdyPoCWMMzx"
      },
      "execution_count": 66,
      "outputs": []
    },
    {
      "cell_type": "code",
      "source": [
        "employees.show()"
      ],
      "metadata": {
        "colab": {
          "base_uri": "https://localhost:8080/"
        },
        "id": "XLnRFQx6MZl9",
        "outputId": "859665b3-766d-4dde-b3a2-5e732eddb0ac"
      },
      "execution_count": 15,
      "outputs": [
        {
          "output_type": "stream",
          "name": "stdout",
          "text": [
            "+---+-----+------+---------+\n",
            "| id| name|salary|managerid|\n",
            "+---+-----+------+---------+\n",
            "|  1|  Joe|    70|        3|\n",
            "|  2|Henry|    80|        4|\n",
            "|  3|  Sam|    60|     NULL|\n",
            "|  4|  Max|    90|     NULL|\n",
            "+---+-----+------+---------+\n",
            "\n"
          ]
        }
      ]
    },
    {
      "cell_type": "code",
      "source": [
        "employees.select(['id', 'name', 'salary']).orderBy(employees.salary.desc()).show(1)"
      ],
      "metadata": {
        "colab": {
          "base_uri": "https://localhost:8080/"
        },
        "id": "ePcqFZ9WP9SV",
        "outputId": "fb926330-b79d-4cd1-983c-8c90fe7b561d"
      },
      "execution_count": 21,
      "outputs": [
        {
          "output_type": "stream",
          "name": "stdout",
          "text": [
            "+---+----+------+\n",
            "| id|name|salary|\n",
            "+---+----+------+\n",
            "|  4| Max|    90|\n",
            "+---+----+------+\n",
            "only showing top 1 row\n",
            "\n"
          ]
        }
      ]
    },
    {
      "cell_type": "code",
      "source": [
        "employees.select(['name']).orderBy(employees.salary.desc()).show(1)"
      ],
      "metadata": {
        "colab": {
          "base_uri": "https://localhost:8080/"
        },
        "id": "cP07B_GvWQmx",
        "outputId": "bfba362f-2214-41ba-8709-1137abfc7ed3"
      },
      "execution_count": 31,
      "outputs": [
        {
          "output_type": "stream",
          "name": "stdout",
          "text": [
            "+----+\n",
            "|name|\n",
            "+----+\n",
            "| Max|\n",
            "+----+\n",
            "only showing top 1 row\n",
            "\n"
          ]
        }
      ]
    },
    {
      "cell_type": "code",
      "execution_count": 87,
      "metadata": {
        "id": "YIn3QFNKoYWt"
      },
      "outputs": [],
      "source": [
        "#если больше одной максимальной зарплаты?\n",
        "persons = spark.createDataFrame([\n",
        "    [1, 'Joe', 70, 3],\n",
        "    [2, 'Henry', 80, 4],\n",
        "    [3, 'Sam', 60, None],\n",
        "    [4, 'Max',  90, None],\n",
        "    [5, 'John', 75, 4],\n",
        "    [6, 'Patrick', 90, 4]])\\\n",
        ".toDF('id','name', 'salary', 'managerid')"
      ]
    },
    {
      "cell_type": "code",
      "source": [
        "df = persons.agg(max(persons.salary).alias('max_salary'))\n",
        "persons_max_salary = persons.filter(persons.salary == df.collect()[0]['max_salary'])\n",
        "persons_max_salary.select(['name']).show()"
      ],
      "metadata": {
        "colab": {
          "base_uri": "https://localhost:8080/"
        },
        "id": "1EBPxiBiL6Ht",
        "outputId": "45fcfd6b-0979-4c38-816a-ec79ff7e441a"
      },
      "execution_count": 89,
      "outputs": [
        {
          "output_type": "stream",
          "name": "stdout",
          "text": [
            "+-------+\n",
            "|   name|\n",
            "+-------+\n",
            "|    Max|\n",
            "|Patrick|\n",
            "+-------+\n",
            "\n"
          ]
        }
      ]
    },
    {
      "cell_type": "markdown",
      "source": [
        "\n",
        "\n",
        "---\n",
        "\n",
        "\n",
        "увидела, что напутала с заданием и просто вывожу имя того, кто больше остальных\n",
        "зарабатывает; исправляюсь"
      ],
      "metadata": {
        "id": "cD4x9pdfaNxO"
      }
    },
    {
      "cell_type": "code",
      "source": [
        "employees.show()"
      ],
      "metadata": {
        "colab": {
          "base_uri": "https://localhost:8080/"
        },
        "id": "fssuyYXhP9EG",
        "outputId": "6c517ec2-e5ab-4d8d-c1bf-d4257061c50d"
      },
      "execution_count": 67,
      "outputs": [
        {
          "output_type": "stream",
          "name": "stdout",
          "text": [
            "+---+-----+------+---------+\n",
            "| id| name|salary|managerid|\n",
            "+---+-----+------+---------+\n",
            "|  1|  Joe|    70|        3|\n",
            "|  2|Henry|    80|        4|\n",
            "|  3|  Sam|    60|     NULL|\n",
            "|  4|  Max|    90|     NULL|\n",
            "+---+-----+------+---------+\n",
            "\n"
          ]
        }
      ]
    },
    {
      "cell_type": "code",
      "source": [
        "manager_names = employees.withColumn('manager_name', when(employees.managerid == 3, 'Sam')\n",
        "                     .when(employees.managerid == 4, 'Max')\n",
        "                     .when(employees.managerid.isNull(), 'No manager')\n",
        "                     .otherwise(employees.managerid))\n",
        "manager_salaries = manager_names.withColumn('manager_salary', when(manager_names.manager_name == 'Sam', 60)\n",
        "                     .when(manager_names.manager_name == 'Max', 90).otherwise(None))"
      ],
      "metadata": {
        "id": "c7KPa3qNYHBq"
      },
      "execution_count": 72,
      "outputs": []
    },
    {
      "cell_type": "code",
      "source": [
        "salary_filter = manager_salaries.filter(manager_salaries.salary > manager_salaries.manager_salary)\n",
        "salary_filter.select('name').show()"
      ],
      "metadata": {
        "colab": {
          "base_uri": "https://localhost:8080/"
        },
        "id": "cYpRocg3YG6y",
        "outputId": "90a6b800-ec34-4f68-edf3-59a3ad05f196"
      },
      "execution_count": 84,
      "outputs": [
        {
          "output_type": "stream",
          "name": "stdout",
          "text": [
            "+----+\n",
            "|name|\n",
            "+----+\n",
            "| Joe|\n",
            "+----+\n",
            "\n"
          ]
        }
      ]
    },
    {
      "cell_type": "markdown",
      "source": [
        "скорее всего, есть более простой способ...\n",
        "😞"
      ],
      "metadata": {
        "id": "w3WXeqiYd0z7"
      }
    }
  ],
  "metadata": {
    "kernelspec": {
      "display_name": "Python 3",
      "language": "python",
      "name": "python3"
    },
    "language_info": {
      "codemirror_mode": {
        "name": "ipython",
        "version": 3
      },
      "file_extension": ".py",
      "mimetype": "text/x-python",
      "name": "python",
      "nbconvert_exporter": "python",
      "pygments_lexer": "ipython3",
      "version": "3.13.0"
    },
    "colab": {
      "provenance": []
    }
  },
  "nbformat": 4,
  "nbformat_minor": 0
}