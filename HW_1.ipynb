{
  "cells": [
    {
      "cell_type": "code",
      "execution_count": null,
      "metadata": {
        "id": "MZ2x8Au8oYWr",
        "outputId": "517cf2d6-58ba-4ce3-a2a2-cb465010685b"
      },
      "outputs": [
        {
          "name": "stdout",
          "output_type": "stream",
          "text": [
            "Requirement already satisfied: pyspark in c:\\users\\user\\appdata\\local\\programs\\python\\python313\\lib\\site-packages (3.5.3)\n",
            "Requirement already satisfied: py4j==0.10.9.7 in c:\\users\\user\\appdata\\local\\programs\\python\\python313\\lib\\site-packages (from pyspark) (0.10.9.7)\n",
            "Note: you may need to restart the kernel to use updated packages.\n"
          ]
        },
        {
          "name": "stderr",
          "output_type": "stream",
          "text": [
            "\n",
            "[notice] A new release of pip is available: 24.2 -> 24.3.1\n",
            "[notice] To update, run: python.exe -m pip install --upgrade pip\n"
          ]
        }
      ],
      "source": [
        "pip install pyspark"
      ]
    },
    {
      "cell_type": "code",
      "execution_count": 2,
      "metadata": {
        "id": "KIqH9BgUoYWt"
      },
      "outputs": [],
      "source": [
        "from pyspark.sql import SparkSession\n",
        "from pyspark import SparkContext"
      ]
    },
    {
      "cell_type": "markdown",
      "metadata": {
        "id": "9P-LsmhmEdWh"
      },
      "source": [
        "Найти самую длинную последовательность упорядоченных чисел в RDD и вывести её."
      ]
    },
    {
      "cell_type": "code",
      "execution_count": 3,
      "metadata": {
        "id": "J-e8nfKJDl24"
      },
      "outputs": [],
      "source": [
        "sc = SparkContext(\"local\", \"longest_sequence\")"
      ]
    },
    {
      "cell_type": "code",
      "execution_count": 4,
      "metadata": {
        "id": "CPPaixulbBq3"
      },
      "outputs": [],
      "source": [
        "def find_longest(numbers):\n",
        "  if not isinstance(numbers, list):\n",
        "      numbers = [numbers]\n",
        "  if not numbers:\n",
        "      return []\n",
        "\n",
        "  sequence_res = []\n",
        "  sequence = [numbers[0]]\n",
        "\n",
        "  for i in range(0, len(numbers)-1):\n",
        "    if abs(numbers[i+1] - numbers[i]) == 1:   #модуль покрывает убывание и возрастание\n",
        "      sequence.append(numbers[i+1])\n",
        "    elif numbers[i+1] - numbers[i] > 1 or numbers[i+1] - numbers[i] < -1:\n",
        "      sequence_res.append(sequence)\n",
        "      sequence = [numbers[i+1]]\n",
        "  sequence_res.append(sequence)             # список последовательностей\n",
        "  return max(sequence_res, key=len)         # возвращает самую длинную последовательность"
      ]
    },
    {
      "cell_type": "code",
      "execution_count": null,
      "metadata": {
        "colab": {
          "base_uri": "https://localhost:8080/"
        },
        "id": "KR6zQAXP0fJU",
        "outputId": "69a2aa2f-16ef-4a21-df4e-d727276c0cda"
      },
      "outputs": [
        {
          "data": {
            "text/plain": [
              "[2, 3, 4, 5, 6, 7]"
            ]
          },
          "execution_count": 64,
          "metadata": {},
          "output_type": "execute_result"
        }
      ],
      "source": [
        "rdd = sc.parallelize([0, 2, 3, 4, 5, 6, 7, 4, 6, 7, 8, 9, 10, 23])\n",
        "sequence_rdd = rdd.glom().map(find_longest).reduce(lambda a, b: a if len(a) > len(b) else b)\n",
        "sequence_rdd"
      ]
    },
    {
      "cell_type": "code",
      "execution_count": null,
      "metadata": {
        "colab": {
          "base_uri": "https://localhost:8080/"
        },
        "id": "PxWZT1KK3D18",
        "outputId": "aff0bbe9-65b0-41f0-df45-89111e051638"
      },
      "outputs": [
        {
          "name": "stdout",
          "output_type": "stream",
          "text": [
            "[6, 7, 8, 9, 10, 11]\n"
          ]
        }
      ],
      "source": [
        "rdd_2 = sc.parallelize([0, 12, 3, 4, 5, 16, 7, 4, 6, 7, 8, 9, 10, 11, 23])\n",
        "sequence_rdd_2 = rdd_2.glom().map(find_longest).reduce(lambda a, b: a if len(a) > len(b) else b)\n",
        "print(sequence_rdd_2)"
      ]
    },
    {
      "cell_type": "code",
      "execution_count": null,
      "metadata": {
        "colab": {
          "base_uri": "https://localhost:8080/"
        },
        "id": "QKpwN4eH3K1r",
        "outputId": "fcf98922-3d08-4991-959f-0cfaae457e73"
      },
      "outputs": [
        {
          "name": "stdout",
          "output_type": "stream",
          "text": [
            "[6, 7, 8]\n"
          ]
        }
      ],
      "source": [
        "rdd_3 = sc.parallelize([0, 12, 3, 4, 65, 16, 70, 4, 6, 7, 8, 48, 9, 13, 2011, 23])\n",
        "sequence_rdd_3 = rdd_3.glom().map(find_longest).reduce(lambda a, b: a if len(a) > len(b) else b)\n",
        "print(sequence_rdd_3)"
      ]
    },
    {
      "cell_type": "code",
      "execution_count": null,
      "metadata": {
        "colab": {
          "base_uri": "https://localhost:8080/"
        },
        "id": "jpKKig7t4pjE",
        "outputId": "a96bf024-ce06-4ebb-92a8-f3f410bb9cdc"
      },
      "outputs": [
        {
          "name": "stdout",
          "output_type": "stream",
          "text": [
            "[8, 7, 6, 5]\n"
          ]
        }
      ],
      "source": [
        "rdd_4 = sc.parallelize([10, 9, 3, 8, 7, 6, 5, 70, 4, 5, 7, 10])\n",
        "sequence_rdd_4 = rdd_4.glom().map(find_longest).reduce(lambda a, b: a if len(a) > len(b) else b)\n",
        "print(sequence_rdd_4)"
      ]
    },
    {
      "cell_type": "code",
      "source": [
        "rdd_5 = sc.parallelize([-10, -9, -8, -7, -6, -5, -4, 5, 6, 7, 10])\n",
        "sequence_rdd_5 = rdd_5.glom().map(find_longest).reduce(lambda a, b: a if len(a) > len(b) else b)\n",
        "print(sequence_rdd_5)"
      ],
      "metadata": {
        "colab": {
          "base_uri": "https://localhost:8080/"
        },
        "id": "s02UWmEs6MNL",
        "outputId": "571c5f13-47d6-4853-f930-de396c29b3c3"
      },
      "execution_count": 6,
      "outputs": [
        {
          "output_type": "stream",
          "name": "stdout",
          "text": [
            "[-10, -9, -8, -7, -6, -5, -4]\n"
          ]
        }
      ]
    },
    {
      "cell_type": "code",
      "source": [
        "rdd_6 = sc.parallelize([-1, 1, -1, 0, 1, 2, 3, -4, 4, 5, 7, 1])\n",
        "sequence_rdd_6 = rdd_6.glom().map(find_longest).reduce(lambda a, b: a if len(a) > len(b) else b)\n",
        "print(sequence_rdd_6)"
      ],
      "metadata": {
        "colab": {
          "base_uri": "https://localhost:8080/"
        },
        "id": "Y0jA4q_O6RCK",
        "outputId": "930d851b-9162-4a5b-de67-ba6f3d372067"
      },
      "execution_count": 5,
      "outputs": [
        {
          "output_type": "stream",
          "name": "stdout",
          "text": [
            "[-1, 0, 1, 2, 3]\n"
          ]
        }
      ]
    },
    {
      "cell_type": "code",
      "execution_count": 8,
      "metadata": {
        "id": "KcpHpQCio_U2"
      },
      "outputs": [],
      "source": [
        "sc.stop()"
      ]
    },
    {
      "cell_type": "code",
      "execution_count": null,
      "metadata": {
        "id": "VTxY1IctD9l0"
      },
      "outputs": [],
      "source": [
        "# отработка алгоритма\n",
        "def find_longest(numbers):\n",
        "  sequence_res = []\n",
        "  sequence = [numbers[0]]\n",
        "  length = 1\n",
        "\n",
        "  for i in range(0, len(numbers)-1):\n",
        "    if abs(numbers[i+1] - numbers[i]) == 1:\n",
        "      sequence.append(numbers[i+1])\n",
        "      length = len(sequence)\n",
        "      if length > len(sequence_res):\n",
        "        sequence_res = sequence\n",
        "    elif numbers[i+1] - numbers[i] > 1 or numbers[i+1] - numbers[i] < -1:\n",
        "      #sequence_res = []\n",
        "      sequence = [numbers[i+1]]\n",
        "      length = 1\n",
        "  return sequence_res"
      ]
    },
    {
      "cell_type": "code",
      "execution_count": null,
      "metadata": {
        "colab": {
          "base_uri": "https://localhost:8080/"
        },
        "id": "ath57TfIF4r9",
        "outputId": "f911dd06-ca28-46df-a2fc-d1146f8637ce"
      },
      "outputs": [
        {
          "data": {
            "text/plain": [
              "[2, 3, 4, 5, 6, 7]"
            ]
          },
          "execution_count": 13,
          "metadata": {},
          "output_type": "execute_result"
        }
      ],
      "source": [
        "find_longest([10, 2, 3, 4, 5, 6, 7, 4, 6, 7, 8, 9, 10, 23])\n",
        "#find_longest([10, 9, 8, 17, 7, 6])"
      ]
    }
  ],
  "metadata": {
    "colab": {
      "provenance": []
    },
    "kernelspec": {
      "display_name": "Python 3",
      "language": "python",
      "name": "python3"
    },
    "language_info": {
      "codemirror_mode": {
        "name": "ipython",
        "version": 3
      },
      "file_extension": ".py",
      "mimetype": "text/x-python",
      "name": "python",
      "nbconvert_exporter": "python",
      "pygments_lexer": "ipython3",
      "version": "3.13.0"
    }
  },
  "nbformat": 4,
  "nbformat_minor": 0
}